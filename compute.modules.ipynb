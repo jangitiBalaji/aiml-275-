{
 "cells": [
  {
   "cell_type": "code",
   "execution_count": 1,
   "id": "8726ff7a-f476-482b-8c0a-74c396dcf851",
   "metadata": {},
   "outputs": [],
   "source": [
    "import pythonmodules1"
   ]
  },
  {
   "cell_type": "code",
   "execution_count": 3,
   "id": "4cc9ba0d-7e29-4815-9a59-2e3e041e14c7",
   "metadata": {},
   "outputs": [
    {
     "data": {
      "text/plain": [
       "42.625"
      ]
     },
     "execution_count": 3,
     "metadata": {},
     "output_type": "execute_result"
    }
   ],
   "source": [
    "pythonmodules1.mean_value(33,44,5,66,77,8,9,99)"
   ]
  },
  {
   "cell_type": "code",
   "execution_count": 5,
   "id": "1f60b2ea-58b7-46a9-abcc-433fefc57c8d",
   "metadata": {},
   "outputs": [
    {
     "data": {
      "text/plain": [
       "7027680"
      ]
     },
     "execution_count": 5,
     "metadata": {},
     "output_type": "execute_result"
    }
   ],
   "source": [
    "pythonmodules1.product(33,44,55,88)"
   ]
  },
  {
   "cell_type": "code",
   "execution_count": null,
   "id": "323d0dcf-ebce-4313-b217-acc1399627b8",
   "metadata": {},
   "outputs": [],
   "source": []
  }
 ],
 "metadata": {
  "kernelspec": {
   "display_name": "Python [conda env:base] *",
   "language": "python",
   "name": "conda-base-py"
  },
  "language_info": {
   "codemirror_mode": {
    "name": "ipython",
    "version": 3
   },
   "file_extension": ".py",
   "mimetype": "text/x-python",
   "name": "python",
   "nbconvert_exporter": "python",
   "pygments_lexer": "ipython3",
   "version": "3.12.7"
  }
 },
 "nbformat": 4,
 "nbformat_minor": 5
}
