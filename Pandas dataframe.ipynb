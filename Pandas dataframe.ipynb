{
 "cells": [
  {
   "cell_type": "code",
   "execution_count": 1,
   "id": "c55b4f48-aaf9-4f1e-a8ac-210ce5892dae",
   "metadata": {},
   "outputs": [],
   "source": [
    "import pandas as pd"
   ]
  },
  {
   "cell_type": "code",
   "execution_count": 9,
   "id": "e084059b-dcae-4703-acb4-5a6e01af2f2e",
   "metadata": {},
   "outputs": [
    {
     "name": "stdout",
     "output_type": "stream",
     "text": [
      "0    10\n",
      "1    20\n",
      "2    30\n",
      "3     a\n",
      "4    40\n",
      "dtype: object\n"
     ]
    }
   ],
   "source": [
    "data = [10,20,30,'a',40]\n",
    "Series = pd.Series(data)\n",
    "print(Series)"
   ]
  },
  {
   "cell_type": "code",
   "execution_count": 12,
   "id": "71d4f13d-f9d8-416b-a590-b3ad19302c6c",
   "metadata": {},
   "outputs": [
    {
     "name": "stdout",
     "output_type": "stream",
     "text": [
      "A    1\n",
      "B    2\n",
      "C    3\n",
      "D    4\n",
      "dtype: int64\n"
     ]
    }
   ],
   "source": [
    "data = [1, 2, 3, 4]\n",
    "i = ['A', 'B', 'C', 'D']\n",
    "series = pd.Series(data, index=i)\n",
    "print(series)"
   ]
  },
  {
   "cell_type": "code",
   "execution_count": 18,
   "id": "71ef7700-4116-4594-8881-ce0db1874203",
   "metadata": {},
   "outputs": [
    {
     "name": "stdout",
     "output_type": "stream",
     "text": [
      "a    20\n",
      "b    40\n",
      "dtype: int64\n"
     ]
    }
   ],
   "source": [
    "data = {'a':20, 'b':40}\n",
    "series = pd.Series(data)\n",
    "print(series)"
   ]
  },
  {
   "cell_type": "code",
   "execution_count": 22,
   "id": "5aa6951c-c329-444c-8209-d4fed5094f7b",
   "metadata": {},
   "outputs": [
    {
     "data": {
      "text/plain": [
       "a    30\n",
       "b    40\n",
       "dtype: int64"
      ]
     },
     "execution_count": 22,
     "metadata": {},
     "output_type": "execute_result"
    }
   ],
   "source": [
    "series.replace(20,30)"
   ]
  },
  {
   "cell_type": "code",
   "execution_count": 30,
   "id": "ad7f22a1-cb64-4c83-89e7-ea5036a8b75d",
   "metadata": {},
   "outputs": [
    {
     "data": {
      "text/plain": [
       "b    40\n",
       "dtype: int64"
      ]
     },
     "execution_count": 30,
     "metadata": {},
     "output_type": "execute_result"
    }
   ],
   "source": [
    "series.drop('a')"
   ]
  },
  {
   "cell_type": "code",
   "execution_count": 34,
   "id": "d2c2fcba-a0f6-4185-be7c-8afa77712f5c",
   "metadata": {},
   "outputs": [
    {
     "name": "stdout",
     "output_type": "stream",
     "text": [
      "a    100\n",
      "b    200\n",
      "dtype: int32\n"
     ]
    }
   ],
   "source": [
    "import numpy as np\n",
    "data = np.array([100, 200])\n",
    "series = pd.Series(data, index = (['a', 'b']))\n",
    "print(series)"
   ]
  },
  {
   "cell_type": "code",
   "execution_count": 49,
   "id": "fa4e1dc7-4da0-4be1-a19c-5ccc206c24e2",
   "metadata": {},
   "outputs": [
    {
     "name": "stdout",
     "output_type": "stream",
     "text": [
      "a    100\n",
      "b    200\n",
      "dtype: int32\n"
     ]
    }
   ],
   "source": [
    "data = {'NAME': ['bharath', 'balaji'], 'Age':[19,19], 'Country': ['usa', 'india']}\n",
    "df = pd.DataFrame(data)\n",
    "print(series)"
   ]
  },
  {
   "cell_type": "code",
   "execution_count": 59,
   "id": "fbd84711-2adb-4050-9dd7-1c850a336210",
   "metadata": {},
   "outputs": [
    {
     "name": "stdout",
     "output_type": "stream",
     "text": [
      "[[1 2]\n",
      " [3 4]\n",
      " [5 8]]\n",
      "   a  b\n",
      "0  1  2\n",
      "1  3  4\n",
      "2  5  8\n"
     ]
    }
   ],
   "source": [
    "import numpy as np\n",
    "array = np.array([[1,2], [3,4], [5,8]])\n",
    "print(array)\n",
    "df = pd.DataFrame(array, columns=['a', 'b'])\n",
    "print(df)"
   ]
  },
  {
   "cell_type": "code",
   "execution_count": 61,
   "id": "8ec08a34-1967-4085-819d-3e46eb3e9fac",
   "metadata": {},
   "outputs": [
    {
     "name": "stdout",
     "output_type": "stream",
     "text": [
      "[[1 2]\n",
      " [3 4]\n",
      " [5 8]]\n",
      "   0  1\n",
      "0  1  2\n",
      "1  3  4\n",
      "2  5  8\n"
     ]
    }
   ],
   "source": [
    "import numpy as np\n",
    "array = np.array([[1,2], [3,4], [5,8]])\n",
    "print(array)\n",
    "df = pd.DataFrame(array)\n",
    "print(df)"
   ]
  },
  {
   "cell_type": "code",
   "execution_count": null,
   "id": "39d727ad-d7bf-4ced-bea2-57a6a111cc3f",
   "metadata": {},
   "outputs": [],
   "source": []
  }
 ],
 "metadata": {
  "kernelspec": {
   "display_name": "Python [conda env:base] *",
   "language": "python",
   "name": "conda-base-py"
  },
  "language_info": {
   "codemirror_mode": {
    "name": "ipython",
    "version": 3
   },
   "file_extension": ".py",
   "mimetype": "text/x-python",
   "name": "python",
   "nbconvert_exporter": "python",
   "pygments_lexer": "ipython3",
   "version": "3.12.7"
  }
 },
 "nbformat": 4,
 "nbformat_minor": 5
}
