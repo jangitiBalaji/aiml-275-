{
 "cells": [
  {
   "cell_type": "code",
   "execution_count": 26,
   "id": "54572150-d07f-45a5-a794-0996c07da7e1",
   "metadata": {},
   "outputs": [
    {
     "data": {
      "text/plain": [
       "{1, 2, 5, 6}"
      ]
     },
     "execution_count": 26,
     "metadata": {},
     "output_type": "execute_result"
    }
   ],
   "source": [
    "s1 = {1, 2, 3, 4}\n",
    "s2 = {3, 4, 5, 6}\n",
    "s1.symmetric_difference(s2)"
   ]
  },
  {
   "cell_type": "code",
   "execution_count": 28,
   "id": "c7979fac-8a3b-4b96-8476-9f2bd7f29667",
   "metadata": {},
   "outputs": [
    {
     "name": "stdout",
     "output_type": "stream",
     "text": [
      "welocme to aiml class\n",
      "we started with python and learning about strings today\n",
      "we are learning ML\n"
     ]
    }
   ],
   "source": [
    "str1 = \"welocme to aiml class\"\n",
    "print(str1)\n",
    "str3 = 'we started with python and learning about strings today'\n",
    "print(str3)\n",
    "str5 = '''we are learning ML'''\n",
    "print(str5)"
   ]
  },
  {
   "cell_type": "code",
   "execution_count": 32,
   "id": "84bdde8e-3d3d-4832-abce-a79cc28f8ebd",
   "metadata": {},
   "outputs": [
    {
     "name": "stdout",
     "output_type": "stream",
     "text": [
      "<class 'str'>\n",
      "<class 'str'>\n",
      "<class 'str'>\n"
     ]
    }
   ],
   "source": [
    "print(type (str1))\n",
    "print(type (str3))\n",
    "print(type (str5))"
   ]
  },
  {
   "cell_type": "code",
   "execution_count": 36,
   "id": "79140e0a-93f0-4424-a4c3-41a433c785ea",
   "metadata": {},
   "outputs": [
    {
     "name": "stdout",
     "output_type": "stream",
     "text": [
      "we started with python and learning about strings today\n"
     ]
    },
    {
     "data": {
      "text/plain": [
       "'me to'"
      ]
     },
     "execution_count": 36,
     "metadata": {},
     "output_type": "execute_result"
    }
   ],
   "source": [
    "print(str3)\n",
    "str1[5:10]"
   ]
  },
  {
   "cell_type": "code",
   "execution_count": 38,
   "id": "e2aea307-b42e-428e-9ee5-95499d026612",
   "metadata": {},
   "outputs": [
    {
     "name": "stdout",
     "output_type": "stream",
     "text": [
      "we started with python and learning about strings today\n"
     ]
    },
    {
     "data": {
      "text/plain": [
       "['welocme', 'to', 'aiml', 'class']"
      ]
     },
     "execution_count": 38,
     "metadata": {},
     "output_type": "execute_result"
    }
   ],
   "source": [
    "print(str3)\n",
    "str1.split()"
   ]
  },
  {
   "cell_type": "code",
   "execution_count": 44,
   "id": "e005a758-17c9-4afe-9fcc-360905aaa0d6",
   "metadata": {},
   "outputs": [
    {
     "data": {
      "text/plain": [
       "'we started;with python'"
      ]
     },
     "execution_count": 44,
     "metadata": {},
     "output_type": "execute_result"
    }
   ],
   "source": [
    "reviews = [\"we started\", \"with python\"]\n",
    "joined_string = ';'.join(reviews)\n",
    "joined_string"
   ]
  },
  {
   "cell_type": "code",
   "execution_count": 50,
   "id": "c6a2d4c9-8f78-45e7-b43d-0cdf8c6ef399",
   "metadata": {},
   "outputs": [
    {
     "data": {
      "text/plain": [
       "['hello', 'hello']"
      ]
     },
     "execution_count": 50,
     "metadata": {},
     "output_type": "execute_result"
    }
   ],
   "source": [
    "str3 = \"hello hello\"\n",
    "str3.split()"
   ]
  },
  {
   "cell_type": "code",
   "execution_count": 48,
   "id": "aa033040-e640-4352-99ef-3355acb81dac",
   "metadata": {},
   "outputs": [
    {
     "data": {
      "text/plain": [
       "['we', 'are', 'learning', 'ML']"
      ]
     },
     "execution_count": 48,
     "metadata": {},
     "output_type": "execute_result"
    }
   ],
   "source": [
    "str5.split()"
   ]
  },
  {
   "cell_type": "code",
   "execution_count": 52,
   "id": "e34963e0-0f8a-4d41-b872-fe78000bcc8d",
   "metadata": {},
   "outputs": [
    {
     "data": {
      "text/plain": [
       "'HELLO HELLO'"
      ]
     },
     "execution_count": 52,
     "metadata": {},
     "output_type": "execute_result"
    }
   ],
   "source": [
    "str3.upper()"
   ]
  },
  {
   "cell_type": "code",
   "execution_count": 1,
   "id": "848ddada-8d55-4db6-8c42-0e90e6a6d13f",
   "metadata": {},
   "outputs": [
    {
     "name": "stdout",
     "output_type": "stream",
     "text": [
      "even\n"
     ]
    }
   ],
   "source": [
    "num = 6\n",
    "if num %2 == 0:\n",
    "    print(\"even\")\n",
    "else:\n",
    "    print(\"odd\")"
   ]
  },
  {
   "cell_type": "code",
   "execution_count": 12,
   "id": "178d1570-9629-44e5-8581-d396377a205a",
   "metadata": {},
   "outputs": [
    {
     "name": "stdout",
     "output_type": "stream",
     "text": [
      "even\n"
     ]
    }
   ],
   "source": [
    "print(\"even\") if num%2 == 0 else(\"odd\")\n"
   ]
  },
  {
   "cell_type": "code",
   "execution_count": 14,
   "id": "8ed8e462-bd4b-4d46-bf8f-ca607c344bbe",
   "metadata": {},
   "outputs": [
    {
     "data": {
      "text/plain": [
       "[2]"
      ]
     },
     "execution_count": 14,
     "metadata": {},
     "output_type": "execute_result"
    }
   ],
   "source": [
    "L = [1,9,3,33,2,33,]\n",
    "[x for x in L if x%2 == 0]"
   ]
  },
  {
   "cell_type": "code",
   "execution_count": 16,
   "id": "e8d41ff8-3d4f-46dd-a905-a11400692642",
   "metadata": {},
   "outputs": [
    {
     "data": {
      "text/plain": [
       "[1, 9, 3, 33, 33]"
      ]
     },
     "execution_count": 16,
     "metadata": {},
     "output_type": "execute_result"
    }
   ],
   "source": [
    "L = [1,9,3,33,2,33,]\n",
    "[x for x in L if x%2 == 1]"
   ]
  },
  {
   "cell_type": "code",
   "execution_count": 26,
   "id": "56400063-e49f-44d3-833f-7182f64b35d5",
   "metadata": {},
   "outputs": [
    {
     "name": "stdout",
     "output_type": "stream",
     "text": [
      "13.5\n"
     ]
    }
   ],
   "source": [
    "avg = sum(L)/len(L)\n",
    "print(avg)"
   ]
  },
  {
   "cell_type": "code",
   "execution_count": 28,
   "id": "70701d5a-147b-40a9-bb2e-5f196d848c1c",
   "metadata": {},
   "outputs": [
    {
     "name": "stdout",
     "output_type": "stream",
     "text": [
      "13.5\n"
     ]
    }
   ],
   "source": [
    "print(avg)"
   ]
  },
  {
   "cell_type": "code",
   "execution_count": null,
   "id": "d10b1d41-0e87-415d-a0b4-568285398940",
   "metadata": {},
   "outputs": [],
   "source": [
    "d1 = {'Ram': [70,71,98,100], 'John': [56,76,77,44]}\n",
    "{k:sum(v)/len(v) for k,v in d1.items()}"
   ]
  }
 ],
 "metadata": {
  "kernelspec": {
   "display_name": "Python [conda env:base] *",
   "language": "python",
   "name": "conda-base-py"
  },
  "language_info": {
   "codemirror_mode": {
    "name": "ipython",
    "version": 3
   },
   "file_extension": ".py",
   "mimetype": "text/x-python",
   "name": "python",
   "nbconvert_exporter": "python",
   "pygments_lexer": "ipython3",
   "version": "3.12.7"
  }
 },
 "nbformat": 4,
 "nbformat_minor": 5
}
